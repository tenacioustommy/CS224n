def test_load_embedding_model():
    # Test loading the embedding model
    embedding_model = load_embedding_model()
    
    # Check if the embedding model is of the correct type
    assert isinstance(embedding_model, gensim.models.keyedvectors.Word2VecKeyedVectors)
    
    # Check if the vocabulary size is correct
    assert len(embedding_model.index_to_key) == 400000
    
    print("All tests passed!")

# Run the tests
test_load_embedding_model()